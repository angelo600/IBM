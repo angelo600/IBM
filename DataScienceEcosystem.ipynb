{
 "cells": [
  {
   "cell_type": "markdown",
   "id": "7f077792-0f93-4f22-9e16-ca359f2ef170",
   "metadata": {
    "tags": []
   },
   "source": [
    "# Data Science Tools and Ecosystem"
   ]
  },
  {
   "cell_type": "markdown",
   "id": "e5c43377-0400-428a-acc8-9c471b8bd460",
   "metadata": {},
   "source": [
    "In this notebook, Data Science Tools and Ecosystem are summarised"
   ]
  },
  {
   "cell_type": "markdown",
   "id": "c6d865d3-6e1f-4dd1-a505-8abc869d69b8",
   "metadata": {},
   "source": [
    "**Objetives**\n",
    "+ List popular languages for Data Science\n",
    "+ How to run multiple notebooks at the same time\n",
    "+ Recording experiments and projects"
   ]
  },
  {
   "cell_type": "markdown",
   "id": "e0f3eb52-df37-4728-8c35-34645def9c45",
   "metadata": {},
   "source": [
    "Some of the popular languages that Data Scientists use are:\n",
    "1. Python\n",
    "2. R\n",
    "3. Julia"
   ]
  },
  {
   "cell_type": "markdown",
   "id": "1e9150b5-6e5e-4ce5-87d2-1cadf23b14cc",
   "metadata": {
    "tags": []
   },
   "source": [
    "Some of the commonly used libraries used by Data Scientists include:\n",
    "1. Numpy\n",
    "2. Pandas\n",
    "3. Plotly"
   ]
  },
  {
   "cell_type": "markdown",
   "id": "8fde7269-371b-4c99-aa4a-a036f0a8ffad",
   "metadata": {},
   "source": [
    "|Data Science Tools|\n",
    "|------------------|\n",
    "|Jupyter notebook|\n",
    "|RStudio|\n",
    "|DataLab|"
   ]
  },
  {
   "cell_type": "markdown",
   "id": "05a77749-c77b-41b4-a2a6-6c625228d63f",
   "metadata": {
    "tags": []
   },
   "source": [
    "### Below are a few examples of evaluating arithmetic expressions in Python"
   ]
  },
  {
   "cell_type": "code",
   "execution_count": 3,
   "id": "56a3f188-c15a-4048-bac8-a1d14bd71239",
   "metadata": {
    "tags": []
   },
   "outputs": [
    {
     "data": {
      "text/plain": [
       "17"
      ]
     },
     "execution_count": 3,
     "metadata": {},
     "output_type": "execute_result"
    }
   ],
   "source": [
    "#This is a simple arithmetic expression to multiply then add integers\n",
    "(3*4)+5"
   ]
  },
  {
   "cell_type": "code",
   "execution_count": 4,
   "id": "595414cf-124d-4461-b7c0-b41a89c635dd",
   "metadata": {
    "tags": []
   },
   "outputs": [
    {
     "data": {
      "text/plain": [
       "3.3333333333333335"
      ]
     },
     "execution_count": 4,
     "metadata": {},
     "output_type": "execute_result"
    }
   ],
   "source": [
    "#This will convert 200 minutes to hours by diving by 60\n",
    "200 / 60"
   ]
  },
  {
   "cell_type": "markdown",
   "id": "941d3aa4-0f2b-456b-b307-a6ffb3d3bac5",
   "metadata": {},
   "source": [
    "## Author\n",
    "AHH"
   ]
  },
  {
   "cell_type": "code",
   "execution_count": null,
   "id": "6b3978cd-a03d-49fe-82df-0878ec2b46ff",
   "metadata": {},
   "outputs": [],
   "source": []
  }
 ],
 "metadata": {
  "kernelspec": {
   "display_name": "Python",
   "language": "python",
   "name": "conda-env-python-py"
  },
  "language_info": {
   "codemirror_mode": {
    "name": "ipython",
    "version": 3
   },
   "file_extension": ".py",
   "mimetype": "text/x-python",
   "name": "python",
   "nbconvert_exporter": "python",
   "pygments_lexer": "ipython3",
   "version": "3.7.12"
  }
 },
 "nbformat": 4,
 "nbformat_minor": 5
}
